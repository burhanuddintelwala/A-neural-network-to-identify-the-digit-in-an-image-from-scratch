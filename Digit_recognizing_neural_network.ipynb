{
  "nbformat": 4,
  "nbformat_minor": 0,
  "metadata": {
    "colab": {
      "provenance": []
    },
    "kernelspec": {
      "name": "python3",
      "display_name": "Python 3"
    },
    "language_info": {
      "name": "python"
    }
  },
  "cells": [
    {
      "cell_type": "markdown",
      "source": [
        "The input training data consists of 28x28 pixel images of digits and the corresponding value of the digit.\n",
        "\n",
        "The file is a csv file with each row having all the pixxel values (between 0 and 254) and the value of the digit corresponding to the pixxle image.\n",
        "\n",
        "There are therefore 785 columns in each row (28*28+1)\n",
        "There are 42K rows corresponding to 42K training images.\n",
        "Lets explore the data below."
      ],
      "metadata": {
        "id": "yG7cPUusj1yd"
      }
    },
    {
      "cell_type": "code",
      "execution_count": 131,
      "metadata": {
        "id": "tukOMMWijHxM"
      },
      "outputs": [],
      "source": [
        "# importing necessary libraries\n",
        "import numpy as np\n",
        "import pandas as pd"
      ]
    },
    {
      "cell_type": "code",
      "source": [
        "#Reading the data\n",
        "train_data = pd.read_csv(\"/content/train_digit.csv\")\n",
        "test_data = pd.read_csv(\"/content/test_digit.csv\")"
      ],
      "metadata": {
        "id": "EKdk264TkCTk"
      },
      "execution_count": 132,
      "outputs": []
    },
    {
      "cell_type": "code",
      "source": [
        "train_data.shape"
      ],
      "metadata": {
        "colab": {
          "base_uri": "https://localhost:8080/"
        },
        "id": "GyZNtwe9kFYV",
        "outputId": "7f9ce1ce-1d84-4d89-e078-e4c87bb39670"
      },
      "execution_count": 133,
      "outputs": [
        {
          "output_type": "execute_result",
          "data": {
            "text/plain": [
              "(42000, 785)"
            ]
          },
          "metadata": {},
          "execution_count": 133
        }
      ]
    },
    {
      "cell_type": "code",
      "source": [
        "train_data.head()"
      ],
      "metadata": {
        "colab": {
          "base_uri": "https://localhost:8080/",
          "height": 255
        },
        "id": "arx-zACokQ4G",
        "outputId": "3949ca1d-4a5b-4312-a937-91793d67a301"
      },
      "execution_count": 134,
      "outputs": [
        {
          "output_type": "execute_result",
          "data": {
            "text/plain": [
              "   label  pixel0  pixel1  pixel2  pixel3  pixel4  pixel5  pixel6  pixel7  \\\n",
              "0      1       0       0       0       0       0       0       0       0   \n",
              "1      0       0       0       0       0       0       0       0       0   \n",
              "2      1       0       0       0       0       0       0       0       0   \n",
              "3      4       0       0       0       0       0       0       0       0   \n",
              "4      0       0       0       0       0       0       0       0       0   \n",
              "\n",
              "   pixel8  ...  pixel774  pixel775  pixel776  pixel777  pixel778  pixel779  \\\n",
              "0       0  ...         0         0         0         0         0         0   \n",
              "1       0  ...         0         0         0         0         0         0   \n",
              "2       0  ...         0         0         0         0         0         0   \n",
              "3       0  ...         0         0         0         0         0         0   \n",
              "4       0  ...         0         0         0         0         0         0   \n",
              "\n",
              "   pixel780  pixel781  pixel782  pixel783  \n",
              "0         0         0         0         0  \n",
              "1         0         0         0         0  \n",
              "2         0         0         0         0  \n",
              "3         0         0         0         0  \n",
              "4         0         0         0         0  \n",
              "\n",
              "[5 rows x 785 columns]"
            ],
            "text/html": [
              "\n",
              "  <div id=\"df-86c7e41f-8ce1-4ac0-a969-001cb89039a5\" class=\"colab-df-container\">\n",
              "    <div>\n",
              "<style scoped>\n",
              "    .dataframe tbody tr th:only-of-type {\n",
              "        vertical-align: middle;\n",
              "    }\n",
              "\n",
              "    .dataframe tbody tr th {\n",
              "        vertical-align: top;\n",
              "    }\n",
              "\n",
              "    .dataframe thead th {\n",
              "        text-align: right;\n",
              "    }\n",
              "</style>\n",
              "<table border=\"1\" class=\"dataframe\">\n",
              "  <thead>\n",
              "    <tr style=\"text-align: right;\">\n",
              "      <th></th>\n",
              "      <th>label</th>\n",
              "      <th>pixel0</th>\n",
              "      <th>pixel1</th>\n",
              "      <th>pixel2</th>\n",
              "      <th>pixel3</th>\n",
              "      <th>pixel4</th>\n",
              "      <th>pixel5</th>\n",
              "      <th>pixel6</th>\n",
              "      <th>pixel7</th>\n",
              "      <th>pixel8</th>\n",
              "      <th>...</th>\n",
              "      <th>pixel774</th>\n",
              "      <th>pixel775</th>\n",
              "      <th>pixel776</th>\n",
              "      <th>pixel777</th>\n",
              "      <th>pixel778</th>\n",
              "      <th>pixel779</th>\n",
              "      <th>pixel780</th>\n",
              "      <th>pixel781</th>\n",
              "      <th>pixel782</th>\n",
              "      <th>pixel783</th>\n",
              "    </tr>\n",
              "  </thead>\n",
              "  <tbody>\n",
              "    <tr>\n",
              "      <th>0</th>\n",
              "      <td>1</td>\n",
              "      <td>0</td>\n",
              "      <td>0</td>\n",
              "      <td>0</td>\n",
              "      <td>0</td>\n",
              "      <td>0</td>\n",
              "      <td>0</td>\n",
              "      <td>0</td>\n",
              "      <td>0</td>\n",
              "      <td>0</td>\n",
              "      <td>...</td>\n",
              "      <td>0</td>\n",
              "      <td>0</td>\n",
              "      <td>0</td>\n",
              "      <td>0</td>\n",
              "      <td>0</td>\n",
              "      <td>0</td>\n",
              "      <td>0</td>\n",
              "      <td>0</td>\n",
              "      <td>0</td>\n",
              "      <td>0</td>\n",
              "    </tr>\n",
              "    <tr>\n",
              "      <th>1</th>\n",
              "      <td>0</td>\n",
              "      <td>0</td>\n",
              "      <td>0</td>\n",
              "      <td>0</td>\n",
              "      <td>0</td>\n",
              "      <td>0</td>\n",
              "      <td>0</td>\n",
              "      <td>0</td>\n",
              "      <td>0</td>\n",
              "      <td>0</td>\n",
              "      <td>...</td>\n",
              "      <td>0</td>\n",
              "      <td>0</td>\n",
              "      <td>0</td>\n",
              "      <td>0</td>\n",
              "      <td>0</td>\n",
              "      <td>0</td>\n",
              "      <td>0</td>\n",
              "      <td>0</td>\n",
              "      <td>0</td>\n",
              "      <td>0</td>\n",
              "    </tr>\n",
              "    <tr>\n",
              "      <th>2</th>\n",
              "      <td>1</td>\n",
              "      <td>0</td>\n",
              "      <td>0</td>\n",
              "      <td>0</td>\n",
              "      <td>0</td>\n",
              "      <td>0</td>\n",
              "      <td>0</td>\n",
              "      <td>0</td>\n",
              "      <td>0</td>\n",
              "      <td>0</td>\n",
              "      <td>...</td>\n",
              "      <td>0</td>\n",
              "      <td>0</td>\n",
              "      <td>0</td>\n",
              "      <td>0</td>\n",
              "      <td>0</td>\n",
              "      <td>0</td>\n",
              "      <td>0</td>\n",
              "      <td>0</td>\n",
              "      <td>0</td>\n",
              "      <td>0</td>\n",
              "    </tr>\n",
              "    <tr>\n",
              "      <th>3</th>\n",
              "      <td>4</td>\n",
              "      <td>0</td>\n",
              "      <td>0</td>\n",
              "      <td>0</td>\n",
              "      <td>0</td>\n",
              "      <td>0</td>\n",
              "      <td>0</td>\n",
              "      <td>0</td>\n",
              "      <td>0</td>\n",
              "      <td>0</td>\n",
              "      <td>...</td>\n",
              "      <td>0</td>\n",
              "      <td>0</td>\n",
              "      <td>0</td>\n",
              "      <td>0</td>\n",
              "      <td>0</td>\n",
              "      <td>0</td>\n",
              "      <td>0</td>\n",
              "      <td>0</td>\n",
              "      <td>0</td>\n",
              "      <td>0</td>\n",
              "    </tr>\n",
              "    <tr>\n",
              "      <th>4</th>\n",
              "      <td>0</td>\n",
              "      <td>0</td>\n",
              "      <td>0</td>\n",
              "      <td>0</td>\n",
              "      <td>0</td>\n",
              "      <td>0</td>\n",
              "      <td>0</td>\n",
              "      <td>0</td>\n",
              "      <td>0</td>\n",
              "      <td>0</td>\n",
              "      <td>...</td>\n",
              "      <td>0</td>\n",
              "      <td>0</td>\n",
              "      <td>0</td>\n",
              "      <td>0</td>\n",
              "      <td>0</td>\n",
              "      <td>0</td>\n",
              "      <td>0</td>\n",
              "      <td>0</td>\n",
              "      <td>0</td>\n",
              "      <td>0</td>\n",
              "    </tr>\n",
              "  </tbody>\n",
              "</table>\n",
              "<p>5 rows × 785 columns</p>\n",
              "</div>\n",
              "    <div class=\"colab-df-buttons\">\n",
              "\n",
              "  <div class=\"colab-df-container\">\n",
              "    <button class=\"colab-df-convert\" onclick=\"convertToInteractive('df-86c7e41f-8ce1-4ac0-a969-001cb89039a5')\"\n",
              "            title=\"Convert this dataframe to an interactive table.\"\n",
              "            style=\"display:none;\">\n",
              "\n",
              "  <svg xmlns=\"http://www.w3.org/2000/svg\" height=\"24px\" viewBox=\"0 -960 960 960\">\n",
              "    <path d=\"M120-120v-720h720v720H120Zm60-500h600v-160H180v160Zm220 220h160v-160H400v160Zm0 220h160v-160H400v160ZM180-400h160v-160H180v160Zm440 0h160v-160H620v160ZM180-180h160v-160H180v160Zm440 0h160v-160H620v160Z\"/>\n",
              "  </svg>\n",
              "    </button>\n",
              "\n",
              "  <style>\n",
              "    .colab-df-container {\n",
              "      display:flex;\n",
              "      gap: 12px;\n",
              "    }\n",
              "\n",
              "    .colab-df-convert {\n",
              "      background-color: #E8F0FE;\n",
              "      border: none;\n",
              "      border-radius: 50%;\n",
              "      cursor: pointer;\n",
              "      display: none;\n",
              "      fill: #1967D2;\n",
              "      height: 32px;\n",
              "      padding: 0 0 0 0;\n",
              "      width: 32px;\n",
              "    }\n",
              "\n",
              "    .colab-df-convert:hover {\n",
              "      background-color: #E2EBFA;\n",
              "      box-shadow: 0px 1px 2px rgba(60, 64, 67, 0.3), 0px 1px 3px 1px rgba(60, 64, 67, 0.15);\n",
              "      fill: #174EA6;\n",
              "    }\n",
              "\n",
              "    .colab-df-buttons div {\n",
              "      margin-bottom: 4px;\n",
              "    }\n",
              "\n",
              "    [theme=dark] .colab-df-convert {\n",
              "      background-color: #3B4455;\n",
              "      fill: #D2E3FC;\n",
              "    }\n",
              "\n",
              "    [theme=dark] .colab-df-convert:hover {\n",
              "      background-color: #434B5C;\n",
              "      box-shadow: 0px 1px 3px 1px rgba(0, 0, 0, 0.15);\n",
              "      filter: drop-shadow(0px 1px 2px rgba(0, 0, 0, 0.3));\n",
              "      fill: #FFFFFF;\n",
              "    }\n",
              "  </style>\n",
              "\n",
              "    <script>\n",
              "      const buttonEl =\n",
              "        document.querySelector('#df-86c7e41f-8ce1-4ac0-a969-001cb89039a5 button.colab-df-convert');\n",
              "      buttonEl.style.display =\n",
              "        google.colab.kernel.accessAllowed ? 'block' : 'none';\n",
              "\n",
              "      async function convertToInteractive(key) {\n",
              "        const element = document.querySelector('#df-86c7e41f-8ce1-4ac0-a969-001cb89039a5');\n",
              "        const dataTable =\n",
              "          await google.colab.kernel.invokeFunction('convertToInteractive',\n",
              "                                                    [key], {});\n",
              "        if (!dataTable) return;\n",
              "\n",
              "        const docLinkHtml = 'Like what you see? Visit the ' +\n",
              "          '<a target=\"_blank\" href=https://colab.research.google.com/notebooks/data_table.ipynb>data table notebook</a>'\n",
              "          + ' to learn more about interactive tables.';\n",
              "        element.innerHTML = '';\n",
              "        dataTable['output_type'] = 'display_data';\n",
              "        await google.colab.output.renderOutput(dataTable, element);\n",
              "        const docLink = document.createElement('div');\n",
              "        docLink.innerHTML = docLinkHtml;\n",
              "        element.appendChild(docLink);\n",
              "      }\n",
              "    </script>\n",
              "  </div>\n",
              "\n",
              "\n",
              "<div id=\"df-5e3ee186-a06b-43b9-a052-f4bd51887ddd\">\n",
              "  <button class=\"colab-df-quickchart\" onclick=\"quickchart('df-5e3ee186-a06b-43b9-a052-f4bd51887ddd')\"\n",
              "            title=\"Suggest charts\"\n",
              "            style=\"display:none;\">\n",
              "\n",
              "<svg xmlns=\"http://www.w3.org/2000/svg\" height=\"24px\"viewBox=\"0 0 24 24\"\n",
              "     width=\"24px\">\n",
              "    <g>\n",
              "        <path d=\"M19 3H5c-1.1 0-2 .9-2 2v14c0 1.1.9 2 2 2h14c1.1 0 2-.9 2-2V5c0-1.1-.9-2-2-2zM9 17H7v-7h2v7zm4 0h-2V7h2v10zm4 0h-2v-4h2v4z\"/>\n",
              "    </g>\n",
              "</svg>\n",
              "  </button>\n",
              "\n",
              "<style>\n",
              "  .colab-df-quickchart {\n",
              "      --bg-color: #E8F0FE;\n",
              "      --fill-color: #1967D2;\n",
              "      --hover-bg-color: #E2EBFA;\n",
              "      --hover-fill-color: #174EA6;\n",
              "      --disabled-fill-color: #AAA;\n",
              "      --disabled-bg-color: #DDD;\n",
              "  }\n",
              "\n",
              "  [theme=dark] .colab-df-quickchart {\n",
              "      --bg-color: #3B4455;\n",
              "      --fill-color: #D2E3FC;\n",
              "      --hover-bg-color: #434B5C;\n",
              "      --hover-fill-color: #FFFFFF;\n",
              "      --disabled-bg-color: #3B4455;\n",
              "      --disabled-fill-color: #666;\n",
              "  }\n",
              "\n",
              "  .colab-df-quickchart {\n",
              "    background-color: var(--bg-color);\n",
              "    border: none;\n",
              "    border-radius: 50%;\n",
              "    cursor: pointer;\n",
              "    display: none;\n",
              "    fill: var(--fill-color);\n",
              "    height: 32px;\n",
              "    padding: 0;\n",
              "    width: 32px;\n",
              "  }\n",
              "\n",
              "  .colab-df-quickchart:hover {\n",
              "    background-color: var(--hover-bg-color);\n",
              "    box-shadow: 0 1px 2px rgba(60, 64, 67, 0.3), 0 1px 3px 1px rgba(60, 64, 67, 0.15);\n",
              "    fill: var(--button-hover-fill-color);\n",
              "  }\n",
              "\n",
              "  .colab-df-quickchart-complete:disabled,\n",
              "  .colab-df-quickchart-complete:disabled:hover {\n",
              "    background-color: var(--disabled-bg-color);\n",
              "    fill: var(--disabled-fill-color);\n",
              "    box-shadow: none;\n",
              "  }\n",
              "\n",
              "  .colab-df-spinner {\n",
              "    border: 2px solid var(--fill-color);\n",
              "    border-color: transparent;\n",
              "    border-bottom-color: var(--fill-color);\n",
              "    animation:\n",
              "      spin 1s steps(1) infinite;\n",
              "  }\n",
              "\n",
              "  @keyframes spin {\n",
              "    0% {\n",
              "      border-color: transparent;\n",
              "      border-bottom-color: var(--fill-color);\n",
              "      border-left-color: var(--fill-color);\n",
              "    }\n",
              "    20% {\n",
              "      border-color: transparent;\n",
              "      border-left-color: var(--fill-color);\n",
              "      border-top-color: var(--fill-color);\n",
              "    }\n",
              "    30% {\n",
              "      border-color: transparent;\n",
              "      border-left-color: var(--fill-color);\n",
              "      border-top-color: var(--fill-color);\n",
              "      border-right-color: var(--fill-color);\n",
              "    }\n",
              "    40% {\n",
              "      border-color: transparent;\n",
              "      border-right-color: var(--fill-color);\n",
              "      border-top-color: var(--fill-color);\n",
              "    }\n",
              "    60% {\n",
              "      border-color: transparent;\n",
              "      border-right-color: var(--fill-color);\n",
              "    }\n",
              "    80% {\n",
              "      border-color: transparent;\n",
              "      border-right-color: var(--fill-color);\n",
              "      border-bottom-color: var(--fill-color);\n",
              "    }\n",
              "    90% {\n",
              "      border-color: transparent;\n",
              "      border-bottom-color: var(--fill-color);\n",
              "    }\n",
              "  }\n",
              "</style>\n",
              "\n",
              "  <script>\n",
              "    async function quickchart(key) {\n",
              "      const quickchartButtonEl =\n",
              "        document.querySelector('#' + key + ' button');\n",
              "      quickchartButtonEl.disabled = true;  // To prevent multiple clicks.\n",
              "      quickchartButtonEl.classList.add('colab-df-spinner');\n",
              "      try {\n",
              "        const charts = await google.colab.kernel.invokeFunction(\n",
              "            'suggestCharts', [key], {});\n",
              "      } catch (error) {\n",
              "        console.error('Error during call to suggestCharts:', error);\n",
              "      }\n",
              "      quickchartButtonEl.classList.remove('colab-df-spinner');\n",
              "      quickchartButtonEl.classList.add('colab-df-quickchart-complete');\n",
              "    }\n",
              "    (() => {\n",
              "      let quickchartButtonEl =\n",
              "        document.querySelector('#df-5e3ee186-a06b-43b9-a052-f4bd51887ddd button');\n",
              "      quickchartButtonEl.style.display =\n",
              "        google.colab.kernel.accessAllowed ? 'block' : 'none';\n",
              "    })();\n",
              "  </script>\n",
              "</div>\n",
              "\n",
              "    </div>\n",
              "  </div>\n"
            ],
            "application/vnd.google.colaboratory.intrinsic+json": {
              "type": "dataframe",
              "variable_name": "train_data"
            }
          },
          "metadata": {},
          "execution_count": 134
        }
      ]
    },
    {
      "cell_type": "code",
      "source": [
        "# Setting up the data and converting the data into a numpy array\n",
        "y0 = train_data['label'].values\n",
        "X0 = train_data.drop(columns=['label']).values/255"
      ],
      "metadata": {
        "id": "1vWEzObqkThN"
      },
      "execution_count": 135,
      "outputs": []
    },
    {
      "cell_type": "code",
      "source": [
        "#Set a random seed for reproducibility\n",
        "np.random.seed(42)\n",
        "\n",
        "# Shuffle the indices\n",
        "indices = np.arange(X0.shape[0])\n",
        "np.random.shuffle(indices)\n",
        "\n",
        "# Split ratio (e.g., 80% train, 20% test)\n",
        "train_ratio = 0.8\n",
        "train_size = int(train_ratio * len(indices))\n",
        "\n",
        "# Split indices into training and testing sets\n",
        "train_indices = indices[:train_size]\n",
        "test_indices = indices[train_size:]\n",
        "\n",
        "# Use the indices to create the train/test sets\n",
        "X_train = X0[train_indices]\n",
        "X_test = X0[test_indices]\n",
        "y_train = y0[train_indices]\n",
        "y_test = y0[test_indices]\n",
        "\n",
        "# Now X_train, X_test, y_train, and y_test are ready to be used."
      ],
      "metadata": {
        "id": "vcVZZ1p603GE"
      },
      "execution_count": 136,
      "outputs": []
    },
    {
      "cell_type": "code",
      "source": [
        "print(\"Shapes of input variables\")\n",
        "print('X train =',X_train.shape)\n",
        "print('y train =',y_train.shape)\n",
        "print('X test =',X_test.shape)\n",
        "print('y test =',y_test.shape)"
      ],
      "metadata": {
        "colab": {
          "base_uri": "https://localhost:8080/"
        },
        "id": "3sRvHbLoklXt",
        "outputId": "235c08b9-647f-4286-ea77-f86393a3a291"
      },
      "execution_count": 137,
      "outputs": [
        {
          "output_type": "stream",
          "name": "stdout",
          "text": [
            "Shapes of input variables\n",
            "X train = (33600, 784)\n",
            "y train = (33600,)\n",
            "X test = (8400, 784)\n",
            "y test = (8400,)\n"
          ]
        }
      ]
    },
    {
      "cell_type": "code",
      "source": [
        "def one_hot_encoding(y):\n",
        "  one_hot_y = np.zeros((y.shape[0],10))\n",
        "  for i in range(y.shape[0]):\n",
        "    one_hot_y[i,y[i]]=1\n",
        "  return one_hot_y"
      ],
      "metadata": {
        "id": "9IclXYKb_-Kj"
      },
      "execution_count": 138,
      "outputs": []
    },
    {
      "cell_type": "code",
      "source": [
        "# Testing the one hot encoding\n",
        "one_hot_y = one_hot_encoding(y_train)\n",
        "print(y_train[2])\n",
        "print(one_hot_y[2])"
      ],
      "metadata": {
        "colab": {
          "base_uri": "https://localhost:8080/"
        },
        "id": "LR0JX20Z1gmg",
        "outputId": "78dd05b0-be57-42c5-db6b-505baf64f17a"
      },
      "execution_count": 140,
      "outputs": [
        {
          "output_type": "stream",
          "name": "stdout",
          "text": [
            "9\n",
            "[0. 0. 0. 0. 0. 0. 0. 0. 0. 1.]\n"
          ]
        }
      ]
    },
    {
      "cell_type": "code",
      "source": [
        "X_train.shape,one_hot_y.shape"
      ],
      "metadata": {
        "colab": {
          "base_uri": "https://localhost:8080/"
        },
        "id": "G_Is8qPjyvXi",
        "outputId": "0bec8746-2969-47e3-ecae-4aa8b4d87db9"
      },
      "execution_count": 141,
      "outputs": [
        {
          "output_type": "execute_result",
          "data": {
            "text/plain": [
              "((33600, 784), (33600, 10))"
            ]
          },
          "metadata": {},
          "execution_count": 141
        }
      ]
    },
    {
      "cell_type": "code",
      "source": [
        "def neuralnet_shape(X, Y, n_h):\n",
        "    Y_one = one_hot_encoding(Y)\n",
        "    n_x = X.shape[1] #size of the first layer\n",
        "    n_h = n_h # Taking the size of the hidden layer to be 15\n",
        "    n_y = Y_one.shape[1] # size of output layer\n",
        "    print('shape of input_layer_neurons',n_x)\n",
        "    print('shape of hidden_layer_neuron' ,n_h)\n",
        "    print('shape of ouput_layer_neurons',n_y)\n",
        "    return (n_x,n_h,n_y)"
      ],
      "metadata": {
        "id": "rM1cOZq2B0FB"
      },
      "execution_count": 160,
      "outputs": []
    },
    {
      "cell_type": "code",
      "source": [
        "n_x,n_h,n_y = neuralnet_shape(X_train,y_train,15)"
      ],
      "metadata": {
        "colab": {
          "base_uri": "https://localhost:8080/"
        },
        "id": "Jnm1ks0SB_CN",
        "outputId": "9c8ce537-a617-4c8c-e947-1b388a86e895"
      },
      "execution_count": 161,
      "outputs": [
        {
          "output_type": "stream",
          "name": "stdout",
          "text": [
            "shape of input_layer_neurons 784\n",
            "shape of hidden_layer_neuron 15\n",
            "shape of ouput_layer_neurons 10\n"
          ]
        }
      ]
    },
    {
      "cell_type": "code",
      "source": [
        "def initialize_parameters(n_x, n_h, n_y):\n",
        "\n",
        "    # Initialization of the the weights and biases for the neurons in the hidden layer\n",
        "    w1 = np.random.randn(n_h, n_x) * 0.1 # Random weights\n",
        "    b1= np.zeros((n_h, 1)) # Zero biases\n",
        "\n",
        "    # Initialization the weights and biases for the neurons in the output layer\n",
        "    w2 = np.random.randn(n_y, n_h) * 0.1 # Random weights\n",
        "    b2 = np.zeros((n_y, 1)) # Zero biases\n",
        "\n",
        "\n",
        "    parameters = {\"w1\": w1,\n",
        "                  \"b1\": b1,\n",
        "                  \"w2\": w2,\n",
        "                  \"b2\": b2}\n",
        "\n",
        "    return parameters\n"
      ],
      "metadata": {
        "id": "6OszTWVHyRnc"
      },
      "execution_count": 162,
      "outputs": []
    },
    {
      "cell_type": "code",
      "source": [
        "parameters = initialize_parameters(n_x,n_h,n_y)"
      ],
      "metadata": {
        "id": "DnIZt-y5OSri"
      },
      "execution_count": 163,
      "outputs": []
    },
    {
      "cell_type": "code",
      "source": [
        "# sigmoid function\n",
        "\n",
        "def sigmoid(z):\n",
        "    s = 1 / (1 + np.exp(-z))\n",
        "    return s"
      ],
      "metadata": {
        "id": "A8fhlRZB0W4t"
      },
      "execution_count": 164,
      "outputs": []
    },
    {
      "cell_type": "code",
      "source": [
        "def forward_propagation(X, parameters):\n",
        "\n",
        "    w1=parameters['w1']\n",
        "    b1=parameters['b1']\n",
        "    w2= parameters['w2']\n",
        "    b2=parameters['b2']\n",
        "\n",
        "    z1 = np.dot(w1, X.T) + b1\n",
        "    a1 = np.tanh(z1)\n",
        "    z2 = np.dot(w2, a1) + b2\n",
        "    a2 = sigmoid(z2)\n",
        "\n",
        "    cache =  {\"z1\": z1,\n",
        "              \"a1\": a1,\n",
        "              \"z2\": z2,\n",
        "              \"a2\": a2}\n",
        "\n",
        "    return a2, cache"
      ],
      "metadata": {
        "id": "dw7pY15A0Yud"
      },
      "execution_count": 165,
      "outputs": []
    },
    {
      "cell_type": "code",
      "source": [
        "a2, cache = forward_propagation(X_train,parameters)"
      ],
      "metadata": {
        "id": "btfA_vGgOXDx"
      },
      "execution_count": 166,
      "outputs": []
    },
    {
      "cell_type": "code",
      "source": [
        "def cost_function(a2, Y, parameters):\n",
        "\n",
        "    m = Y.shape[0]\n",
        "    Y_one = one_hot_encoding(Y)\n",
        "\n",
        "    # Calculate Costs\n",
        "    logs = np.multiply(np.log(a2), Y_one.T) + np.multiply((1 - Y_one.T), np.log(1 - a2))\n",
        "    cost = - np.sum(logs) / m  # sum of all the elements of the matrix. Summation of a single row gives cost for a single image. Summation of columns gives the total cost for all the images\n",
        "    cost = float(np.squeeze(cost))\n",
        "\n",
        "    return cost"
      ],
      "metadata": {
        "id": "FqrGqrfrD6BN"
      },
      "execution_count": 167,
      "outputs": []
    },
    {
      "cell_type": "code",
      "source": [
        "cost1  = cost_function(a2,y_train,parameters)"
      ],
      "metadata": {
        "id": "L1PFfbx5EBuc"
      },
      "execution_count": 168,
      "outputs": []
    },
    {
      "cell_type": "code",
      "source": [
        "print(cost1)"
      ],
      "metadata": {
        "colab": {
          "base_uri": "https://localhost:8080/"
        },
        "id": "0K7ecz36K7o1",
        "outputId": "ea5cb35a-159b-45cf-c9e7-52fe7ad2eebd"
      },
      "execution_count": 169,
      "outputs": [
        {
          "output_type": "stream",
          "name": "stdout",
          "text": [
            "6.99813621307548\n"
          ]
        }
      ]
    },
    {
      "cell_type": "code",
      "source": [
        "def backward_propagation(parameters, cache , X, Y):\n",
        "    m = X.shape[0]\n",
        "\n",
        "    Y_one = one_hot_encoding(Y)\n",
        "\n",
        "    w1 = parameters['w1']\n",
        "    w2 = parameters['w2']\n",
        "    a1 = cache['a1']\n",
        "    a2 = cache['a2']\n",
        "\n",
        "    dz2 = a2 - Y_one.T\n",
        "    dw2 = (1 / m) * np.dot(dz2, a1.T)\n",
        "    db2 = (1 / m) * np.sum(dz2, axis=1, keepdims=True)\n",
        "    dz1 = np.multiply(np.dot(w2.T, dz2), 1 - np.power(a1, 2))\n",
        "    dw1 = (1 / m) * np.dot(dz1, X)\n",
        "    db1 = (1 / m) * np.sum(dz1, axis=1, keepdims=True)\n",
        "\n",
        "    grads = {\"dw1\":dw1, \"db1\": db1, \"dw2\": dw2,\"db2\": db2}\n",
        "\n",
        "    return grads"
      ],
      "metadata": {
        "id": "1Kj6StkzK-MY"
      },
      "execution_count": 170,
      "outputs": []
    },
    {
      "cell_type": "code",
      "source": [
        "def update_parameters(parameters, grads):\n",
        "    alpha=0.09\n",
        "\n",
        "    w1 = parameters['w1']\n",
        "    b1 = parameters['b1']\n",
        "    w2 = parameters['w2']\n",
        "    b2 = parameters['b2']\n",
        "\n",
        "    dw1 = grads['dw1']\n",
        "    db1 = grads['db1']\n",
        "    dw2 = grads['dw2']\n",
        "    db2 = grads['db2']\n",
        "\n",
        "    w1 = w1 - alpha * dw1\n",
        "    b1 = b1 - alpha * db1\n",
        "    w2 = w2 - alpha * dw2\n",
        "    b2 = b2 - alpha * db2\n",
        "\n",
        "    parameters = {\"w1\": w1, \"b1\": b1,\"w2\": w2,\"b2\": b2}\n",
        "\n",
        "    return parameters"
      ],
      "metadata": {
        "id": "h3p1s_GSLH6y"
      },
      "execution_count": 171,
      "outputs": []
    },
    {
      "cell_type": "code",
      "source": [
        "def nn_model(X,Y,n_h,num_iterations):\n",
        "    n_x,n_h,n_y = neuralnet_shape(X,Y,n_h)\n",
        "    parameters = initialize_parameters(n_x,n_h,n_y)\n",
        "    for i in range(0,num_iterations):\n",
        "\n",
        "        a2,cache = forward_propagation(X,parameters)\n",
        "        cost = cost_function(a2,Y,parameters)\n",
        "        grads = backward_propagation(parameters,cache,X,Y)\n",
        "        parameters = update_parameters(parameters,grads)\n",
        "\n",
        "        if i%100==0:\n",
        "            print('Cost after iteration %i : %f'%(i,cost))\n",
        "    return parameters"
      ],
      "metadata": {
        "id": "3No0dpb8LMDf"
      },
      "execution_count": 172,
      "outputs": []
    },
    {
      "cell_type": "code",
      "source": [
        "parameters = nn_model(X_train,y_train,15,1800)"
      ],
      "metadata": {
        "colab": {
          "base_uri": "https://localhost:8080/"
        },
        "id": "3wHv9qUsMNyD",
        "outputId": "3fccf64c-1a61-497b-e5ab-36aa5b5e75ef"
      },
      "execution_count": 173,
      "outputs": [
        {
          "output_type": "stream",
          "name": "stdout",
          "text": [
            "shape of input_layer_neurons 784\n",
            "shape of hidden_layer_neuron 15\n",
            "shape of ouput_layer_neurons 10\n",
            "Cost after iteration 0 : 6.990952\n",
            "Cost after iteration 100 : 2.594073\n",
            "Cost after iteration 200 : 2.015274\n",
            "Cost after iteration 300 : 1.675138\n",
            "Cost after iteration 400 : 1.426215\n",
            "Cost after iteration 500 : 1.238785\n",
            "Cost after iteration 600 : 1.102211\n",
            "Cost after iteration 700 : 1.003864\n",
            "Cost after iteration 800 : 0.930868\n",
            "Cost after iteration 900 : 0.874582\n",
            "Cost after iteration 1000 : 0.829741\n",
            "Cost after iteration 1100 : 0.793044\n",
            "Cost after iteration 1200 : 0.762357\n",
            "Cost after iteration 1300 : 0.736242\n",
            "Cost after iteration 1400 : 0.713698\n",
            "Cost after iteration 1500 : 0.694003\n",
            "Cost after iteration 1600 : 0.676619\n",
            "Cost after iteration 1700 : 0.661136\n"
          ]
        }
      ]
    },
    {
      "cell_type": "code",
      "source": [
        "def prediction(parameters, X):\n",
        "    a2, cache = forward_propagation(X, parameters)\n",
        "    return np.argmax(a2, 0) # converting the a2 predictions (one hot encoded matrix) into numerical digits"
      ],
      "metadata": {
        "id": "xuwTXQUNbBHN"
      },
      "execution_count": 177,
      "outputs": []
    },
    {
      "cell_type": "code",
      "source": [
        "predicted_values = prediction(parameters, X_test)\n",
        "\n",
        "correct_predictions = np.sum(predicted_values == y_test)\n",
        "total_digits = y_test.size"
      ],
      "metadata": {
        "id": "dTvr-PN50Ywl"
      },
      "execution_count": 178,
      "outputs": []
    },
    {
      "cell_type": "code",
      "source": [
        "print('Correct Predictions: ' + str(correct_predictions))\n",
        "print('No. of digits tested: ' + str(total_digits))\n",
        "print('Accuracy: ' + str(np.round((correct_predictions / total_digits) * 100, 1)) + '%')"
      ],
      "metadata": {
        "id": "AN7BEbfp1ZZZ",
        "colab": {
          "base_uri": "https://localhost:8080/"
        },
        "outputId": "9f4ede1f-bd21-42f6-f700-6073b90955ab"
      },
      "execution_count": 179,
      "outputs": [
        {
          "output_type": "stream",
          "name": "stdout",
          "text": [
            "Correct Predictions: 7608\n",
            "No. of digits tested: 8400\n",
            "Accuracy: 90.6%\n"
          ]
        }
      ]
    }
  ]
}